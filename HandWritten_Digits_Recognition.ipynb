{
  "nbformat": 4,
  "nbformat_minor": 0,
  "metadata": {
    "colab": {
      "name": "HandWritten Digits Recognition.ipynb",
      "provenance": [],
      "collapsed_sections": []
    },
    "kernelspec": {
      "name": "python3",
      "display_name": "Python 3"
    },
    "language_info": {
      "name": "python"
    }
  },
  "cells": [
    {
      "cell_type": "markdown",
      "source": [
        "# HandWritten Digits Recognition"
      ],
      "metadata": {
        "id": "gyDXU8Ge7J_u"
      }
    },
    {
      "cell_type": "markdown",
      "source": [
        "### Import Necessary Modules"
      ],
      "metadata": {
        "id": "Uh3B7aEKBWUw"
      }
    },
    {
      "cell_type": "code",
      "execution_count": null,
      "metadata": {
        "id": "hO-u96SM7JPH"
      },
      "outputs": [],
      "source": [
        "import numpy as np\n",
        "import matplotlib.pyplot as plt\n",
        "import tensorflow as tf\n",
        "from tensorflow.keras.models import Sequential\n",
        "from tensorflow.keras.layers import Flatten, Dense\n"
      ]
    },
    {
      "cell_type": "markdown",
      "source": [
        "### Load the Dataset"
      ],
      "metadata": {
        "id": "fAbAH4swCjh-"
      }
    },
    {
      "cell_type": "code",
      "source": [
        "mnist_data = tf.keras.datasets.mnist\n",
        "\n",
        "(X_train,y_train), (X_test,y_test) = mnist_data.load_data()"
      ],
      "metadata": {
        "id": "kYifPk6b7NxT"
      },
      "execution_count": null,
      "outputs": []
    },
    {
      "cell_type": "code",
      "source": [
        "print(f'Training Images consists of {X_train.shape[0]} images and each image with shape {X_train[0].shape}')\n",
        "print(f'Testing Images consists of {X_test.shape[0]} images and each image with shape {X_test[0].shape}')"
      ],
      "metadata": {
        "colab": {
          "base_uri": "https://localhost:8080/"
        },
        "id": "Dg1wC1c58Zsd",
        "outputId": "864b5125-6b97-423e-b346-99fab224c70f"
      },
      "execution_count": null,
      "outputs": [
        {
          "output_type": "stream",
          "name": "stdout",
          "text": [
            "Training Images consists of 60000 images and each image with shape (28, 28)\n",
            "Testing Images consists of 10000 images and each image with shape (28, 28)\n"
          ]
        }
      ]
    },
    {
      "cell_type": "code",
      "source": [
        "# Displaying images from dataset\n",
        "\n",
        "plt.imshow(X_train[0],cmap=plt.cm.binary)\n",
        "plt.show()"
      ],
      "metadata": {
        "colab": {
          "base_uri": "https://localhost:8080/",
          "height": 265
        },
        "id": "x9LcKxRR8pvy",
        "outputId": "f66759b5-ab57-4250-e3c2-979be99780c3"
      },
      "execution_count": null,
      "outputs": [
        {
          "output_type": "display_data",
          "data": {
            "text/plain": [
              "<Figure size 432x288 with 1 Axes>"
            ],
            "image/png": "[encoded data removed]"
          },
          "metadata": {
            "needs_background": "light"
          }
        }
      ]
    },
    {
      "cell_type": "markdown",
      "source": [
        "### Normailze the images"
      ],
      "metadata": {
        "id": "B85PC3SLDlsG"
      }
    },
    {
      "cell_type": "markdown",
      "source": [
        "Original image consists of pixel range from 0-255. After normalizing, all the pixel values are converted to the range 0-1."
      ],
      "metadata": {
        "id": "NTEc_YclDxXh"
      }
    },
    {
      "cell_type": "code",
      "source": [
        "X_train = tf.keras.utils.normalize(X_train)\n",
        "X_test = tf.keras.utils.normalize(X_test)"
      ],
      "metadata": {
        "id": "LXDM4Lqn8zCE"
      },
      "execution_count": null,
      "outputs": []
    },
    {
      "cell_type": "code",
      "source": [
        "# Displaying images from dataset after normalizing\n",
        "\n",
        "plt.imshow(X_train[0],cmap=plt.cm.binary)\n",
        "plt.show()"
      ],
      "metadata": {
        "colab": {
          "base_uri": "https://localhost:8080/",
          "height": 265
        },
        "id": "6v0bVJGm9A2P",
        "outputId": "e9025c40-2920-4804-8728-2705ed4172c5"
      },
      "execution_count": null,
      "outputs": [
        {
          "output_type": "display_data",
          "data": {
            "text/plain": [
              "<Figure size 432x288 with 1 Axes>"
            ],
            "image/png": "[encoded data removed]"
          },
          "metadata": {
            "needs_background": "light"
          }
        }
      ]
    },
    {
      "cell_type": "markdown",
      "source": [
        "### Build a Model"
      ],
      "metadata": {
        "id": "EhJHEA4xENHO"
      }
    },
    {
      "cell_type": "markdown",
      "source": [
        "\n",
        "\n",
        "*   1st layer is the Flatten layer, that converts (28,28) images to 784 vector (28*28 = 784)\n",
        "*   2nd and 3rd layers are fully connnected Dense layers with 128 nodes within each layer. Here we used 'relu' (Rectified Linear activation Unit)  \n",
        "as a activation function, which makes -ve values to 0. below is the function of ReLU\n",
        "\n",
        "    ```\n",
        "    f(x) = max(0,x)\n",
        "    ```\n",
        "* 4th layer is the Dense layer with 10 nodes as output(0-9 digits). Here we used softmax as output, that converts a vector of numbers into a vector of probabilities and the maximum probability node/index will be our output. \n",
        "\n",
        "\n"
      ],
      "metadata": {
        "id": "HPibp5GHERSV"
      }
    },
    {
      "cell_type": "code",
      "source": [
        "model = Sequential([\n",
        "    Flatten(input_shape=(28,28)),\n",
        "    Dense(128,activation='relu'),\n",
        "    Dense(128,activation='relu'),\n",
        "    Dense(10,activation='softmax')\n",
        "])\n",
        "model.summary()"
      ],
      "metadata": {
        "colab": {
          "base_uri": "https://localhost:8080/"
        },
        "id": "-QYhUUni9C_a",
        "outputId": "0a574f4e-5abc-468d-eba5-78ad49f51f00"
      },
      "execution_count": null,
      "outputs": [
        {
          "output_type": "stream",
          "name": "stdout",
          "text": [
            "Model: \"sequential_2\"\n",
            "_________________________________________________________________\n",
            " Layer (type)                Output Shape              Param #   \n",
            "=================================================================\n",
            " flatten_2 (Flatten)         (None, 784)               0         \n",
            "                                                                 \n",
            " dense_6 (Dense)             (None, 128)               100480    \n",
            "                                                                 \n",
            " dense_7 (Dense)             (None, 128)               16512     \n",
            "                                                                 \n",
            " dense_8 (Dense)             (None, 10)                1290      \n",
            "                                                                 \n",
            "=================================================================\n",
            "Total params: 118,282\n",
            "Trainable params: 118,282\n",
            "Non-trainable params: 0\n",
            "_________________________________________________________________\n"
          ]
        }
      ]
    },
    {
      "cell_type": "markdown",
      "source": [
        "Then we will compile our model with 'adam' optimizer and loss function as'sparse_categorical_crossentropy', which performs well for categorical classification problems.\n",
        "\n",
        "Finally, we will fit our training images and labels to our model and I have used 10% of our training examples for cross validation and with batch size = 32"
      ],
      "metadata": {
        "id": "iKpzktFYGNxh"
      }
    },
    {
      "cell_type": "code",
      "source": [
        "model.compile(optimizer='adam',loss='sparse_categorical_crossentropy',metrics=['acc'])\n",
        "\n",
        "history = model.fit(X_train,y_train,validation_split = 0.1,batch_size=32, epochs=5)"
      ],
      "metadata": {
        "colab": {
          "base_uri": "https://localhost:8080/"
        },
        "id": "ARnJsXyN92il",
        "outputId": "9bb2a09e-0648-43d8-b046-5b572c284f88"
      },
      "execution_count": null,
      "outputs": [
        {
          "output_type": "stream",
          "name": "stdout",
          "text": [
            "Epoch 1/5\n",
            "1688/1688 [==============================] - 5s 3ms/step - loss: 0.2767 - acc: 0.9161 - val_loss: 0.1188 - val_acc: 0.9638\n",
            "Epoch 2/5\n",
            "1688/1688 [==============================] - 4s 3ms/step - loss: 0.1142 - acc: 0.9647 - val_loss: 0.0952 - val_acc: 0.9700\n",
            "Epoch 3/5\n",
            "1688/1688 [==============================] - 4s 3ms/step - loss: 0.0779 - acc: 0.9753 - val_loss: 0.0832 - val_acc: 0.9760\n",
            "Epoch 4/5\n",
            "1688/1688 [==============================] - 4s 3ms/step - loss: 0.0577 - acc: 0.9821 - val_loss: 0.0840 - val_acc: 0.9767\n",
            "Epoch 5/5\n",
            "1688/1688 [==============================] - 4s 3ms/step - loss: 0.0459 - acc: 0.9848 - val_loss: 0.0784 - val_acc: 0.9793\n"
          ]
        }
      ]
    },
    {
      "cell_type": "markdown",
      "source": [
        "### Test our Model"
      ],
      "metadata": {
        "id": "SJZK47pPHFqw"
      }
    },
    {
      "cell_type": "code",
      "source": [
        "test_loss , test_acc = model.evaluate(X_test,y_test)"
      ],
      "metadata": {
        "colab": {
          "base_uri": "https://localhost:8080/"
        },
        "id": "Vgt5Y9C6_KqC",
        "outputId": "371eaa6d-230e-4b8c-999f-b04acb8b3a0b"
      },
      "execution_count": null,
      "outputs": [
        {
          "output_type": "stream",
          "name": "stdout",
          "text": [
            "313/313 [==============================] - 0s 1ms/step - loss: 0.0908 - acc: 0.9752\n"
          ]
        }
      ]
    },
    {
      "cell_type": "code",
      "source": [
        "print('Test Accuracy: {:.2f}%'.format(test_acc*100) )"
      ],
      "metadata": {
        "colab": {
          "base_uri": "https://localhost:8080/"
        },
        "id": "bSqeAuNO_OCU",
        "outputId": "7e82a2b4-9d3d-4b27-fa0b-7387273eeaea"
      },
      "execution_count": null,
      "outputs": [
        {
          "output_type": "stream",
          "name": "stdout",
          "text": [
            "Test Accuracy: 97.52%\n"
          ]
        }
      ]
    },
    {
      "cell_type": "code",
      "source": [
        "pred = model.predict([X_test])"
      ],
      "metadata": {
        "id": "UxWpCrI3IZtR"
      },
      "execution_count": null,
      "outputs": []
    },
    {
      "cell_type": "code",
      "source": [
        "print('Predicted : ',np.argmax(pred[0]))\n",
        "print('Actual: ',y_test[0])\n",
        "plt.imshow(X_test[0],cmap=plt.cm.binary)\n",
        "plt.show()"
      ],
      "metadata": {
        "colab": {
          "base_uri": "https://localhost:8080/",
          "height": 300
        },
        "id": "wFu4skD0IXUu",
        "outputId": "56ef3c88-5fb8-4b8a-fc97-df585d16f99b"
      },
      "execution_count": null,
      "outputs": [
        {
          "output_type": "stream",
          "name": "stdout",
          "text": [
            "Predicted :  7\n",
            "Actual:  7\n"
          ]
        },
        {
          "output_type": "display_data",
          "data": {
            "text/plain": [
              "<Figure size 432x288 with 1 Axes>"
            ],
            "image/png": "[encoded data removed]"
          },
          "metadata": {
            "needs_background": "light"
          }
        }
      ]
    },
    {
      "cell_type": "code",
      "source": [
        "for i in range(56,62):\n",
        "    print('Predicted : ',np.argmax(pred[i]))\n",
        "    print('Actual: ',y_test[i])\n",
        "    print('-'*20)"
      ],
      "metadata": {
        "colab": {
          "base_uri": "https://localhost:8080/"
        },
        "id": "D1c-H1Z1Afmv",
        "outputId": "121d9fbb-967b-4d9c-f5aa-da330e60f59a"
      },
      "execution_count": null,
      "outputs": [
        {
          "output_type": "stream",
          "name": "stdout",
          "text": [
            "Predicted :  4\n",
            "Actual:  4\n",
            "--------------------\n",
            "Predicted :  1\n",
            "Actual:  1\n",
            "--------------------\n",
            "Predicted :  9\n",
            "Actual:  9\n",
            "--------------------\n",
            "Predicted :  5\n",
            "Actual:  5\n",
            "--------------------\n",
            "Predicted :  7\n",
            "Actual:  7\n",
            "--------------------\n",
            "Predicted :  2\n",
            "Actual:  8\n",
            "--------------------\n"
          ]
        }
      ]
    },
    {
      "cell_type": "markdown",
      "source": [
        "K HUNNURJI RAO"
      ],
      "metadata": {
        "id": "GU6r2_9PJZRQ"
      }
    }
  ]
}